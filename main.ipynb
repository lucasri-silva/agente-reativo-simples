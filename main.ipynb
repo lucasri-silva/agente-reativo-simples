{
 "cells": [
  {
   "cell_type": "code",
   "execution_count": 301,
   "id": "45ad7b67",
   "metadata": {},
   "outputs": [
    {
     "name": "stdout",
     "output_type": "stream",
     "text": [
      "Defaulting to user installation because normal site-packages is not writeable\n",
      "Requirement already satisfied: pandas in /home/lucas/.local/lib/python3.10/site-packages (1.5.3)\n",
      "Requirement already satisfied: numpy>=1.21.0 in /home/lucas/.local/lib/python3.10/site-packages (from pandas) (1.24.2)\n",
      "Requirement already satisfied: python-dateutil>=2.8.1 in /home/lucas/.local/lib/python3.10/site-packages (from pandas) (2.8.2)\n",
      "Requirement already satisfied: pytz>=2020.1 in /usr/lib/python3/dist-packages (from pandas) (2022.1)\n",
      "Requirement already satisfied: six>=1.5 in /usr/lib/python3/dist-packages (from python-dateutil>=2.8.1->pandas) (1.16.0)\n",
      "Defaulting to user installation because normal site-packages is not writeable\n",
      "Requirement already satisfied: openpyxl in /home/lucas/.local/lib/python3.10/site-packages (3.1.2)\n",
      "Requirement already satisfied: et-xmlfile in /home/lucas/.local/lib/python3.10/site-packages (from openpyxl) (1.1.0)\n"
     ]
    }
   ],
   "source": [
    "!pip3 install pandas\n",
    "!pip3 install openpyxl\n",
    "import pandas as pd"
   ]
  },
  {
   "cell_type": "code",
   "execution_count": 302,
   "id": "248ca5b1",
   "metadata": {},
   "outputs": [
    {
     "name": "stdout",
     "output_type": "stream",
     "text": [
      "   environment location      A      B\n",
      "0            1        A  Dirty  Dirty\n",
      "1            2        B  Dirty  Dirty\n",
      "2            3        A  Dirty    NaN\n",
      "3            4        B  Dirty    NaN\n",
      "4            5        A    NaN  Dirty\n",
      "5            6        B    NaN  Dirty\n",
      "6            7        A    NaN    NaN\n",
      "7            8        B    NaN    NaN\n"
     ]
    }
   ],
   "source": [
    "# Load the xlsx file\n",
    "excel_data = pd.read_excel('./dados.xlsx')\n",
    "# Read the values of the file in the dataframe\n",
    "data = pd.DataFrame(excel_data, columns=['environment', 'location', 'A', 'B'])\n",
    "# Print the content\n",
    "print(data)"
   ]
  },
  {
   "cell_type": "code",
   "execution_count": 303,
   "id": "92c16eb9",
   "metadata": {},
   "outputs": [],
   "source": [
    "def reflexVacuumAgent(location, status):\n",
    "    if status == 'Dirty':\n",
    "        return 'Suck'\n",
    "    elif location == 'A':\n",
    "        return 'A'\n",
    "    elif location == 'B':\n",
    "        return 'B'\n"
   ]
  },
  {
   "cell_type": "code",
   "execution_count": 304,
   "id": "87349d84",
   "metadata": {},
   "outputs": [],
   "source": [
    "# Create copy of table\n",
    "data_copy = data.copy()"
   ]
  },
  {
   "cell_type": "code",
   "execution_count": 305,
   "id": "5216c780",
   "metadata": {},
   "outputs": [],
   "source": [
    "# Create array with the size of number of rows in table and initialize its values with zero\n",
    "individualScore = [0 for i in range(len(data_copy))] \n",
    "# Iterate through rows\n",
    "for index, row in data_copy.iterrows():\n",
    "        position = row['location']\n",
    "        status = row[position]\n",
    "        for i in range(1001):\n",
    "            state = reflexVacuumAgent(position, status)\n",
    "            if state == 'Suck':\n",
    "                row[position] = 'Clean'\n",
    "                data_copy.at[index, position] = 'Clean'\n",
    "                status = 'Clean'\n",
    "                individualScore[index] += 1\n",
    "            elif state == 'A':\n",
    "                position = 'B'\n",
    "                status = row[position]\n",
    "            elif state == 'B':\n",
    "                position = 'A'\n",
    "                status = row[position]"
   ]
  },
  {
   "cell_type": "code",
   "execution_count": 306,
   "id": "53aed53e",
   "metadata": {},
   "outputs": [],
   "source": [
    "overallAverage = sum(individualScore) / len(data_copy) # number of environments"
   ]
  },
  {
   "cell_type": "code",
   "execution_count": 307,
   "id": "7ac79efa",
   "metadata": {},
   "outputs": [
    {
     "name": "stdout",
     "output_type": "stream",
     "text": [
      "   environment location      A      B\n",
      "0            1        A  Clean  Clean\n",
      "1            2        B  Clean  Clean\n",
      "2            3        A  Clean    NaN\n",
      "3            4        B  Clean    NaN\n",
      "4            5        A    NaN  Clean\n",
      "5            6        B    NaN  Clean\n",
      "6            7        A    NaN    NaN\n",
      "7            8        B    NaN    NaN\n",
      "[2, 2, 1, 1, 1, 1, 0, 0]\n",
      "OVERALL AVERAGE ->  1.0\n",
      "INDIVIDUAL SCORES\n",
      "Env #1 -> 2\n",
      "Env #2 -> 2\n",
      "Env #3 -> 1\n",
      "Env #4 -> 1\n",
      "Env #5 -> 1\n",
      "Env #6 -> 1\n",
      "Env #7 -> 0\n",
      "Env #8 -> 0\n"
     ]
    }
   ],
   "source": [
    "print(data_copy)\n",
    "print(individualScore)\n",
    "print('OVERALL AVERAGE -> ', overallAverage)\n",
    "print('INDIVIDUAL SCORES')\n",
    "for i, score in enumerate(individualScore):\n",
    "    print('Env #' + str(i+1) + ' -> ' + str(score))"
   ]
  },
  {
   "cell_type": "code",
   "execution_count": null,
   "id": "95dcc6e9",
   "metadata": {},
   "outputs": [],
   "source": []
  }
 ],
 "metadata": {
  "kernelspec": {
   "display_name": "Python 3 (ipykernel)",
   "language": "python",
   "name": "python3"
  },
  "language_info": {
   "codemirror_mode": {
    "name": "ipython",
    "version": 3
   },
   "file_extension": ".py",
   "mimetype": "text/x-python",
   "name": "python",
   "nbconvert_exporter": "python",
   "pygments_lexer": "ipython3",
   "version": "3.10.6"
  }
 },
 "nbformat": 4,
 "nbformat_minor": 5
}
