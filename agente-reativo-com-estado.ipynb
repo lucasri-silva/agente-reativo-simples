{
 "cells": [
  {
   "cell_type": "code",
   "execution_count": 152,
   "id": "45ad7b67",
   "metadata": {},
   "outputs": [],
   "source": [
    "# !pip3 install pandas\n",
    "# !pip3 install openpyxl\n",
    "import pandas as pd"
   ]
  },
  {
   "cell_type": "code",
   "execution_count": 153,
   "id": "248ca5b1",
   "metadata": {},
   "outputs": [
    {
     "name": "stdout",
     "output_type": "stream",
     "text": [
      "   environment location      A      B\n",
      "0            1        A  Dirty  Dirty\n",
      "1            2        B  Dirty  Dirty\n",
      "2            3        A  Dirty  Clean\n",
      "3            4        B  Dirty  Clean\n",
      "4            5        A  Clean  Dirty\n",
      "5            6        B  Clean  Dirty\n",
      "6            7        A  Clean  Clean\n",
      "7            8        B  Clean  Clean\n"
     ]
    }
   ],
   "source": [
    "# Load the xlsx file\n",
    "excel_data = pd.read_excel('./dados.xlsx')\n",
    "# Read the values of the file in the dataframe\n",
    "data = pd.DataFrame(excel_data, columns=['environment', 'location', 'A', 'B'])\n",
    "# Print the content\n",
    "print(data)"
   ]
  },
  {
   "cell_type": "code",
   "execution_count": 154,
   "id": "4d945406",
   "metadata": {},
   "outputs": [],
   "source": [
    "    # Create copy of table\n",
    "data_copy = data.copy()\n",
    "# Create array with the size of number of rows in table and initialize its values with zero\n",
    "individualScore = [0 for i in range(len(data_copy))]\n",
    "memory = []"
   ]
  },
  {
   "cell_type": "code",
   "execution_count": 155,
   "id": "92c16eb9",
   "metadata": {},
   "outputs": [],
   "source": [
    "def reflexVacuumAgent(location, status):\n",
    "    if 'A,Clean' in memory and 'B,Clean' in memory:\n",
    "        return 'Stay'\n",
    "    elif status == 'Dirty':\n",
    "        return 'Suck'\n",
    "    elif location == 'A':\n",
    "        return 'A'\n",
    "    elif location == 'B':\n",
    "        return 'B'\n"
   ]
  },
  {
   "cell_type": "code",
   "execution_count": 156,
   "id": "5216c780",
   "metadata": {},
   "outputs": [],
   "source": [
    "def reflexAgent():\n",
    "    global individualScore\n",
    "    # Iterate through rows\n",
    "    for index, row in data_copy.iterrows():\n",
    "            memory.clear()\n",
    "            print('ENVIRONMENT ', index+1)\n",
    "            position = row['location']\n",
    "            status = row[position]\n",
    "            current_state = reflexVacuumAgent(position, status)\n",
    "            for i in range(1001):\n",
    "                if(current_state == 'Stay'):\n",
    "                    continue\n",
    "                memory.append(position + ',' + status)\n",
    "                if current_state == 'Suck':\n",
    "                    row[position] = 'Clean'\n",
    "                    data_copy.at[index, position] = 'Clean'\n",
    "                    status = 'Clean'\n",
    "                    individualScore[index] += 1\n",
    "                    current_state = reflexVacuumAgent(position, status)\n",
    "                elif current_state == 'A':\n",
    "                    position = 'B'\n",
    "                    status = row[position]\n",
    "                    current_state = reflexVacuumAgent(position, status)\n",
    "                    if current_state != 'Stay':\n",
    "                        individualScore[index] -= 1\n",
    "                elif current_state == 'B':\n",
    "                    position = 'A'\n",
    "                    status = row[position]\n",
    "                    current_state = reflexVacuumAgent(position, status)\n",
    "                    if current_state != 'Stay':\n",
    "                        individualScore[index] -= 1\n",
    "            print(memory)\n"
   ]
  },
  {
   "cell_type": "code",
   "execution_count": 157,
   "id": "53aed53e",
   "metadata": {},
   "outputs": [],
   "source": [
    "def imprimeResultados():\n",
    "    overallAverage = sum(individualScore) / len(data_copy) # number of environments\n",
    "    print(data_copy)\n",
    "    print(individualScore)\n",
    "    print('OVERALL AVERAGE -> ', overallAverage)\n",
    "    print('INDIVIDUAL SCORES')\n",
    "    for i, score in enumerate(individualScore):\n",
    "        print('Env #' + str(i+1) + ' -> ' + str(score))"
   ]
  },
  {
   "cell_type": "code",
   "execution_count": 158,
   "id": "7ac79efa",
   "metadata": {},
   "outputs": [
    {
     "name": "stdout",
     "output_type": "stream",
     "text": [
      "ENVIRONMENT  1\n",
      "['A,Dirty', 'A,Clean', 'B,Dirty', 'B,Clean']\n",
      "ENVIRONMENT  2\n",
      "['B,Dirty', 'B,Clean', 'A,Dirty', 'A,Clean']\n",
      "ENVIRONMENT  3\n",
      "['A,Dirty', 'A,Clean', 'B,Clean']\n",
      "ENVIRONMENT  4\n",
      "['B,Clean', 'A,Dirty', 'A,Clean']\n",
      "ENVIRONMENT  5\n",
      "['A,Clean', 'B,Dirty', 'B,Clean']\n",
      "ENVIRONMENT  6\n",
      "['B,Dirty', 'B,Clean', 'A,Clean']\n",
      "ENVIRONMENT  7\n",
      "['A,Clean', 'B,Clean']\n",
      "ENVIRONMENT  8\n",
      "['B,Clean', 'A,Clean']\n",
      "   environment location      A      B\n",
      "0            1        A  Clean  Clean\n",
      "1            2        B  Clean  Clean\n",
      "2            3        A  Clean  Clean\n",
      "3            4        B  Clean  Clean\n",
      "4            5        A  Clean  Clean\n",
      "5            6        B  Clean  Clean\n",
      "6            7        A  Clean  Clean\n",
      "7            8        B  Clean  Clean\n",
      "[1, 1, 0, 0, 0, 0, -1, -1]\n",
      "OVERALL AVERAGE ->  0.0\n",
      "INDIVIDUAL SCORES\n",
      "Env #1 -> 1\n",
      "Env #2 -> 1\n",
      "Env #3 -> 0\n",
      "Env #4 -> 0\n",
      "Env #5 -> 0\n",
      "Env #6 -> 0\n",
      "Env #7 -> -1\n",
      "Env #8 -> -1\n"
     ]
    }
   ],
   "source": [
    "reflexAgent()\n",
    "imprimeResultados()"
   ]
  },
  {
   "cell_type": "code",
   "execution_count": null,
   "id": "8f221270",
   "metadata": {},
   "outputs": [],
   "source": []
  }
 ],
 "metadata": {
  "kernelspec": {
   "display_name": "Python 3 (ipykernel)",
   "language": "python",
   "name": "python3"
  },
  "language_info": {
   "codemirror_mode": {
    "name": "ipython",
    "version": 3
   },
   "file_extension": ".py",
   "mimetype": "text/x-python",
   "name": "python",
   "nbconvert_exporter": "python",
   "pygments_lexer": "ipython3",
   "version": "3.10.6"
  }
 },
 "nbformat": 4,
 "nbformat_minor": 5
}
